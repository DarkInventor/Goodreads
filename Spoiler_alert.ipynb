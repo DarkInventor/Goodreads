{
 "cells": [
  {
   "cell_type": "markdown",
   "id": "700d1375",
   "metadata": {},
   "source": [
    "# Goodreads Spoilers\n",
    "\n",
    "#### These datasets contain reviews from the Goodreads book review website, along with annotated \"spoiler\" information from each review. This dataset contains more than 1.3M book reviews about 25,475 books and 18,892 users."
   ]
  },
  {
   "cell_type": "code",
   "execution_count": 28,
   "id": "0611c190",
   "metadata": {},
   "outputs": [],
   "source": [
    "import pandas as pd\n",
    "import json\n",
    "import matplotlib.pyplot as plt"
   ]
  },
  {
   "cell_type": "markdown",
   "id": "6e6e24b4",
   "metadata": {},
   "source": [
    "#### --> Fetching the JSON file & reading its data line-by-line and appending it into json_list & finally sending it into a dataframe which in turn stores all data inside \"df\""
   ]
  },
  {
   "cell_type": "code",
   "execution_count": 29,
   "id": "68194408",
   "metadata": {},
   "outputs": [],
   "source": [
    "# set the path to the JSON file\n",
    "path = 'goodreads_reviews_spoiler.json'\n",
    "\n",
    "# create an empty list to store the JSON objects\n",
    "json_list = []\n",
    "\n",
    "# read the JSON file line by line\n",
    "with open(path, 'r') as f:\n",
    "    for line in f:\n",
    "        # load each line as a JSON object\n",
    "        json_obj = json.loads(line)\n",
    "        # append the JSON object to the list\n",
    "        json_list.append(json_obj)\n",
    "\n",
    "# create a DataFrame from the list of JSON objects\n",
    "df = pd.DataFrame(json_list)"
   ]
  },
  {
   "cell_type": "code",
   "execution_count": 30,
   "id": "6f2f5a4e",
   "metadata": {},
   "outputs": [
    {
     "data": {
      "text/html": [
       "<div>\n",
       "<style scoped>\n",
       "    .dataframe tbody tr th:only-of-type {\n",
       "        vertical-align: middle;\n",
       "    }\n",
       "\n",
       "    .dataframe tbody tr th {\n",
       "        vertical-align: top;\n",
       "    }\n",
       "\n",
       "    .dataframe thead th {\n",
       "        text-align: right;\n",
       "    }\n",
       "</style>\n",
       "<table border=\"1\" class=\"dataframe\">\n",
       "  <thead>\n",
       "    <tr style=\"text-align: right;\">\n",
       "      <th></th>\n",
       "      <th>user_id</th>\n",
       "      <th>timestamp</th>\n",
       "      <th>review_sentences</th>\n",
       "      <th>rating</th>\n",
       "      <th>has_spoiler</th>\n",
       "      <th>book_id</th>\n",
       "      <th>review_id</th>\n",
       "    </tr>\n",
       "  </thead>\n",
       "  <tbody>\n",
       "    <tr>\n",
       "      <th>0</th>\n",
       "      <td>8842281e1d1347389f2ab93d60773d4d</td>\n",
       "      <td>2017-08-30</td>\n",
       "      <td>[[0, This is a special book.], [0, It started ...</td>\n",
       "      <td>5</td>\n",
       "      <td>True</td>\n",
       "      <td>18245960</td>\n",
       "      <td>dfdbb7b0eb5a7e4c26d59a937e2e5feb</td>\n",
       "    </tr>\n",
       "    <tr>\n",
       "      <th>1</th>\n",
       "      <td>8842281e1d1347389f2ab93d60773d4d</td>\n",
       "      <td>2017-03-22</td>\n",
       "      <td>[[0, Recommended by Don Katz.], [0, Avail for ...</td>\n",
       "      <td>3</td>\n",
       "      <td>False</td>\n",
       "      <td>16981</td>\n",
       "      <td>a5d2c3628987712d0e05c4f90798eb67</td>\n",
       "    </tr>\n",
       "    <tr>\n",
       "      <th>2</th>\n",
       "      <td>8842281e1d1347389f2ab93d60773d4d</td>\n",
       "      <td>2017-03-20</td>\n",
       "      <td>[[0, A fun, fast paced science fiction thrille...</td>\n",
       "      <td>3</td>\n",
       "      <td>True</td>\n",
       "      <td>28684704</td>\n",
       "      <td>2ede853b14dc4583f96cf5d120af636f</td>\n",
       "    </tr>\n",
       "    <tr>\n",
       "      <th>3</th>\n",
       "      <td>8842281e1d1347389f2ab93d60773d4d</td>\n",
       "      <td>2016-11-09</td>\n",
       "      <td>[[0, Recommended reading to understand what is...</td>\n",
       "      <td>0</td>\n",
       "      <td>False</td>\n",
       "      <td>27161156</td>\n",
       "      <td>ced5675e55cd9d38a524743f5c40996e</td>\n",
       "    </tr>\n",
       "    <tr>\n",
       "      <th>4</th>\n",
       "      <td>8842281e1d1347389f2ab93d60773d4d</td>\n",
       "      <td>2016-04-25</td>\n",
       "      <td>[[0, I really enjoyed this book, and there is ...</td>\n",
       "      <td>4</td>\n",
       "      <td>True</td>\n",
       "      <td>25884323</td>\n",
       "      <td>332732725863131279a8e345b63ac33e</td>\n",
       "    </tr>\n",
       "    <tr>\n",
       "      <th>...</th>\n",
       "      <td>...</td>\n",
       "      <td>...</td>\n",
       "      <td>...</td>\n",
       "      <td>...</td>\n",
       "      <td>...</td>\n",
       "      <td>...</td>\n",
       "      <td>...</td>\n",
       "    </tr>\n",
       "    <tr>\n",
       "      <th>95</th>\n",
       "      <td>01ec1a320ffded6b2dd47833f2c8e4fb</td>\n",
       "      <td>2017-07-23</td>\n",
       "      <td>[[0, 3.5 - 4 stars], [0, Beautiful and poignan...</td>\n",
       "      <td>4</td>\n",
       "      <td>False</td>\n",
       "      <td>35275234</td>\n",
       "      <td>4c7feecc438639b41c45ae4b8e7ae97c</td>\n",
       "    </tr>\n",
       "    <tr>\n",
       "      <th>96</th>\n",
       "      <td>01ec1a320ffded6b2dd47833f2c8e4fb</td>\n",
       "      <td>2017-09-15</td>\n",
       "      <td>[[0, 4.5 - 5 Stars!], [0, \"When life happened,...</td>\n",
       "      <td>5</td>\n",
       "      <td>False</td>\n",
       "      <td>35342904</td>\n",
       "      <td>f246ef8741bcbd9969e3d0cf6b622464</td>\n",
       "    </tr>\n",
       "    <tr>\n",
       "      <th>97</th>\n",
       "      <td>01ec1a320ffded6b2dd47833f2c8e4fb</td>\n",
       "      <td>2017-07-01</td>\n",
       "      <td>[[0, 4.5 Captivating Stars!!], [0, \"When truth...</td>\n",
       "      <td>5</td>\n",
       "      <td>False</td>\n",
       "      <td>32054095</td>\n",
       "      <td>8c742bb67025d7e152f04793e46c34a3</td>\n",
       "    </tr>\n",
       "    <tr>\n",
       "      <th>98</th>\n",
       "      <td>01ec1a320ffded6b2dd47833f2c8e4fb</td>\n",
       "      <td>2017-05-30</td>\n",
       "      <td>[[0, Such a sweet and sexy story!], [0, Highly...</td>\n",
       "      <td>4</td>\n",
       "      <td>False</td>\n",
       "      <td>34321642</td>\n",
       "      <td>735f52a6301fc855fadf081b5df10dd4</td>\n",
       "    </tr>\n",
       "    <tr>\n",
       "      <th>99</th>\n",
       "      <td>01ec1a320ffded6b2dd47833f2c8e4fb</td>\n",
       "      <td>2017-08-13</td>\n",
       "      <td>[[0, \"Now I know how much there is to be afrai...</td>\n",
       "      <td>4</td>\n",
       "      <td>False</td>\n",
       "      <td>34776338</td>\n",
       "      <td>741913dcec30e4ff0a23d98a639f8650</td>\n",
       "    </tr>\n",
       "  </tbody>\n",
       "</table>\n",
       "<p>100 rows × 7 columns</p>\n",
       "</div>"
      ],
      "text/plain": [
       "                             user_id   timestamp  \\\n",
       "0   8842281e1d1347389f2ab93d60773d4d  2017-08-30   \n",
       "1   8842281e1d1347389f2ab93d60773d4d  2017-03-22   \n",
       "2   8842281e1d1347389f2ab93d60773d4d  2017-03-20   \n",
       "3   8842281e1d1347389f2ab93d60773d4d  2016-11-09   \n",
       "4   8842281e1d1347389f2ab93d60773d4d  2016-04-25   \n",
       "..                               ...         ...   \n",
       "95  01ec1a320ffded6b2dd47833f2c8e4fb  2017-07-23   \n",
       "96  01ec1a320ffded6b2dd47833f2c8e4fb  2017-09-15   \n",
       "97  01ec1a320ffded6b2dd47833f2c8e4fb  2017-07-01   \n",
       "98  01ec1a320ffded6b2dd47833f2c8e4fb  2017-05-30   \n",
       "99  01ec1a320ffded6b2dd47833f2c8e4fb  2017-08-13   \n",
       "\n",
       "                                     review_sentences  rating  has_spoiler  \\\n",
       "0   [[0, This is a special book.], [0, It started ...       5         True   \n",
       "1   [[0, Recommended by Don Katz.], [0, Avail for ...       3        False   \n",
       "2   [[0, A fun, fast paced science fiction thrille...       3         True   \n",
       "3   [[0, Recommended reading to understand what is...       0        False   \n",
       "4   [[0, I really enjoyed this book, and there is ...       4         True   \n",
       "..                                                ...     ...          ...   \n",
       "95  [[0, 3.5 - 4 stars], [0, Beautiful and poignan...       4        False   \n",
       "96  [[0, 4.5 - 5 Stars!], [0, \"When life happened,...       5        False   \n",
       "97  [[0, 4.5 Captivating Stars!!], [0, \"When truth...       5        False   \n",
       "98  [[0, Such a sweet and sexy story!], [0, Highly...       4        False   \n",
       "99  [[0, \"Now I know how much there is to be afrai...       4        False   \n",
       "\n",
       "     book_id                         review_id  \n",
       "0   18245960  dfdbb7b0eb5a7e4c26d59a937e2e5feb  \n",
       "1      16981  a5d2c3628987712d0e05c4f90798eb67  \n",
       "2   28684704  2ede853b14dc4583f96cf5d120af636f  \n",
       "3   27161156  ced5675e55cd9d38a524743f5c40996e  \n",
       "4   25884323  332732725863131279a8e345b63ac33e  \n",
       "..       ...                               ...  \n",
       "95  35275234  4c7feecc438639b41c45ae4b8e7ae97c  \n",
       "96  35342904  f246ef8741bcbd9969e3d0cf6b622464  \n",
       "97  32054095  8c742bb67025d7e152f04793e46c34a3  \n",
       "98  34321642  735f52a6301fc855fadf081b5df10dd4  \n",
       "99  34776338  741913dcec30e4ff0a23d98a639f8650  \n",
       "\n",
       "[100 rows x 7 columns]"
      ]
     },
     "execution_count": 30,
     "metadata": {},
     "output_type": "execute_result"
    }
   ],
   "source": [
    "df.head(100)"
   ]
  },
  {
   "cell_type": "code",
   "execution_count": 31,
   "id": "e822e0d6",
   "metadata": {
    "scrolled": true
   },
   "outputs": [
    {
     "data": {
      "text/plain": [
       "0          [[0, This is a special book.], [0, It started ...\n",
       "1          [[0, Recommended by Don Katz.], [0, Avail for ...\n",
       "2          [[0, A fun, fast paced science fiction thrille...\n",
       "3          [[0, Recommended reading to understand what is...\n",
       "4          [[0, I really enjoyed this book, and there is ...\n",
       "                                 ...                        \n",
       "1378028    [[0, Can't wait for Travis' POV], [0, Travis B...\n",
       "1378029    [[0, Had this on my to-read shelf forever.], [...\n",
       "1378030    [[0, The last book left me wanting for more.],...\n",
       "1378031    [[0, Things are heating up in the second novel...\n",
       "1378032    [[0, Before I even start this review, I must s...\n",
       "Name: review_sentences, Length: 1378033, dtype: object"
      ]
     },
     "execution_count": 31,
     "metadata": {},
     "output_type": "execute_result"
    }
   ],
   "source": [
    "df['review_sentences']"
   ]
  },
  {
   "cell_type": "markdown",
   "id": "dd3f2b77",
   "metadata": {},
   "source": [
    "#### --> Removing 0 from review sentences & seperating two review sentences "
   ]
  },
  {
   "cell_type": "code",
   "execution_count": 32,
   "id": "cf6ed52b",
   "metadata": {},
   "outputs": [
    {
     "name": "stdout",
     "output_type": "stream",
     "text": [
      "                            user_id   timestamp  rating  has_spoiler  \\\n",
      "0  8842281e1d1347389f2ab93d60773d4d  2017-08-30       5         True   \n",
      "1  8842281e1d1347389f2ab93d60773d4d  2017-03-22       3        False   \n",
      "2  8842281e1d1347389f2ab93d60773d4d  2017-03-20       3         True   \n",
      "3  8842281e1d1347389f2ab93d60773d4d  2016-11-09       0        False   \n",
      "4  8842281e1d1347389f2ab93d60773d4d  2016-04-25       4         True   \n",
      "\n",
      "    book_id                         review_id  \\\n",
      "0  18245960  dfdbb7b0eb5a7e4c26d59a937e2e5feb   \n",
      "1     16981  a5d2c3628987712d0e05c4f90798eb67   \n",
      "2  28684704  2ede853b14dc4583f96cf5d120af636f   \n",
      "3  27161156  ced5675e55cd9d38a524743f5c40996e   \n",
      "4  25884323  332732725863131279a8e345b63ac33e   \n",
      "\n",
      "                                      first_sentence  \\\n",
      "0                       [0, This is a special book.]   \n",
      "1                      [0, Recommended by Don Katz.]   \n",
      "2   [0, A fun, fast paced science fiction thriller.]   \n",
      "3  [0, Recommended reading to understand what is ...   \n",
      "4  [0, I really enjoyed this book, and there is a...   \n",
      "\n",
      "                                     second_sentence  \n",
      "0  [0, It started slow for about the first third,...  \n",
      "1  [0, Avail for free in December: http://www.aud...  \n",
      "2  [0, I read it in 2 nights and couldn't put it ...  \n",
      "3      [0, http://www.npr.org/2016/11/09/5013826...]  \n",
      "4  [0, It did drag on a little at the end so I kn...  \n"
     ]
    }
   ],
   "source": [
    "df['first_sentence'] = df['review_sentences'].apply(lambda x: x[0] if len(x)>0 else None)\n",
    "df['second_sentence'] = df['review_sentences'].apply(lambda x: x[1] if len(x)>1 else None)\n",
    "\n",
    "\n",
    "df.drop('review_sentences', axis=1, inplace=True)\n",
    "\n",
    "print(df.head())\n",
    "\n",
    "\n"
   ]
  },
  {
   "cell_type": "markdown",
   "id": "f961a032",
   "metadata": {},
   "source": [
    "#### --> Removing Unnecessary columns timestamp & review_id"
   ]
  },
  {
   "cell_type": "code",
   "execution_count": 33,
   "id": "e6c763e0",
   "metadata": {},
   "outputs": [],
   "source": [
    "df.drop(['review_id'], axis=1, inplace=True)\n"
   ]
  },
  {
   "cell_type": "code",
   "execution_count": 34,
   "id": "78011929",
   "metadata": {},
   "outputs": [
    {
     "data": {
      "text/html": [
       "<div>\n",
       "<style scoped>\n",
       "    .dataframe tbody tr th:only-of-type {\n",
       "        vertical-align: middle;\n",
       "    }\n",
       "\n",
       "    .dataframe tbody tr th {\n",
       "        vertical-align: top;\n",
       "    }\n",
       "\n",
       "    .dataframe thead th {\n",
       "        text-align: right;\n",
       "    }\n",
       "</style>\n",
       "<table border=\"1\" class=\"dataframe\">\n",
       "  <thead>\n",
       "    <tr style=\"text-align: right;\">\n",
       "      <th></th>\n",
       "      <th>user_id</th>\n",
       "      <th>timestamp</th>\n",
       "      <th>rating</th>\n",
       "      <th>has_spoiler</th>\n",
       "      <th>book_id</th>\n",
       "      <th>first_sentence</th>\n",
       "      <th>second_sentence</th>\n",
       "    </tr>\n",
       "  </thead>\n",
       "  <tbody>\n",
       "    <tr>\n",
       "      <th>0</th>\n",
       "      <td>8842281e1d1347389f2ab93d60773d4d</td>\n",
       "      <td>2017-08-30</td>\n",
       "      <td>5</td>\n",
       "      <td>True</td>\n",
       "      <td>18245960</td>\n",
       "      <td>[0, This is a special book.]</td>\n",
       "      <td>[0, It started slow for about the first third,...</td>\n",
       "    </tr>\n",
       "    <tr>\n",
       "      <th>1</th>\n",
       "      <td>8842281e1d1347389f2ab93d60773d4d</td>\n",
       "      <td>2017-03-22</td>\n",
       "      <td>3</td>\n",
       "      <td>False</td>\n",
       "      <td>16981</td>\n",
       "      <td>[0, Recommended by Don Katz.]</td>\n",
       "      <td>[0, Avail for free in December: http://www.aud...</td>\n",
       "    </tr>\n",
       "    <tr>\n",
       "      <th>2</th>\n",
       "      <td>8842281e1d1347389f2ab93d60773d4d</td>\n",
       "      <td>2017-03-20</td>\n",
       "      <td>3</td>\n",
       "      <td>True</td>\n",
       "      <td>28684704</td>\n",
       "      <td>[0, A fun, fast paced science fiction thriller.]</td>\n",
       "      <td>[0, I read it in 2 nights and couldn't put it ...</td>\n",
       "    </tr>\n",
       "    <tr>\n",
       "      <th>3</th>\n",
       "      <td>8842281e1d1347389f2ab93d60773d4d</td>\n",
       "      <td>2016-11-09</td>\n",
       "      <td>0</td>\n",
       "      <td>False</td>\n",
       "      <td>27161156</td>\n",
       "      <td>[0, Recommended reading to understand what is ...</td>\n",
       "      <td>[0, http://www.npr.org/2016/11/09/5013826...]</td>\n",
       "    </tr>\n",
       "    <tr>\n",
       "      <th>4</th>\n",
       "      <td>8842281e1d1347389f2ab93d60773d4d</td>\n",
       "      <td>2016-04-25</td>\n",
       "      <td>4</td>\n",
       "      <td>True</td>\n",
       "      <td>25884323</td>\n",
       "      <td>[0, I really enjoyed this book, and there is a...</td>\n",
       "      <td>[0, It did drag on a little at the end so I kn...</td>\n",
       "    </tr>\n",
       "  </tbody>\n",
       "</table>\n",
       "</div>"
      ],
      "text/plain": [
       "                            user_id   timestamp  rating  has_spoiler  \\\n",
       "0  8842281e1d1347389f2ab93d60773d4d  2017-08-30       5         True   \n",
       "1  8842281e1d1347389f2ab93d60773d4d  2017-03-22       3        False   \n",
       "2  8842281e1d1347389f2ab93d60773d4d  2017-03-20       3         True   \n",
       "3  8842281e1d1347389f2ab93d60773d4d  2016-11-09       0        False   \n",
       "4  8842281e1d1347389f2ab93d60773d4d  2016-04-25       4         True   \n",
       "\n",
       "    book_id                                     first_sentence  \\\n",
       "0  18245960                       [0, This is a special book.]   \n",
       "1     16981                      [0, Recommended by Don Katz.]   \n",
       "2  28684704   [0, A fun, fast paced science fiction thriller.]   \n",
       "3  27161156  [0, Recommended reading to understand what is ...   \n",
       "4  25884323  [0, I really enjoyed this book, and there is a...   \n",
       "\n",
       "                                     second_sentence  \n",
       "0  [0, It started slow for about the first third,...  \n",
       "1  [0, Avail for free in December: http://www.aud...  \n",
       "2  [0, I read it in 2 nights and couldn't put it ...  \n",
       "3      [0, http://www.npr.org/2016/11/09/5013826...]  \n",
       "4  [0, It did drag on a little at the end so I kn...  "
      ]
     },
     "execution_count": 34,
     "metadata": {},
     "output_type": "execute_result"
    }
   ],
   "source": [
    "df.head()"
   ]
  },
  {
   "cell_type": "markdown",
   "id": "98e9a64b",
   "metadata": {},
   "source": [
    "#### --> dropping book_id "
   ]
  },
  {
   "cell_type": "code",
   "execution_count": 35,
   "id": "c5e321d1",
   "metadata": {},
   "outputs": [],
   "source": [
    "df.drop('book_id', axis=1, inplace=True)"
   ]
  },
  {
   "cell_type": "code",
   "execution_count": 36,
   "id": "84b2abd6",
   "metadata": {},
   "outputs": [
    {
     "data": {
      "text/html": [
       "<div>\n",
       "<style scoped>\n",
       "    .dataframe tbody tr th:only-of-type {\n",
       "        vertical-align: middle;\n",
       "    }\n",
       "\n",
       "    .dataframe tbody tr th {\n",
       "        vertical-align: top;\n",
       "    }\n",
       "\n",
       "    .dataframe thead th {\n",
       "        text-align: right;\n",
       "    }\n",
       "</style>\n",
       "<table border=\"1\" class=\"dataframe\">\n",
       "  <thead>\n",
       "    <tr style=\"text-align: right;\">\n",
       "      <th></th>\n",
       "      <th>user_id</th>\n",
       "      <th>timestamp</th>\n",
       "      <th>rating</th>\n",
       "      <th>has_spoiler</th>\n",
       "      <th>first_sentence</th>\n",
       "      <th>second_sentence</th>\n",
       "    </tr>\n",
       "  </thead>\n",
       "  <tbody>\n",
       "    <tr>\n",
       "      <th>0</th>\n",
       "      <td>8842281e1d1347389f2ab93d60773d4d</td>\n",
       "      <td>2017-08-30</td>\n",
       "      <td>5</td>\n",
       "      <td>True</td>\n",
       "      <td>[0, This is a special book.]</td>\n",
       "      <td>[0, It started slow for about the first third,...</td>\n",
       "    </tr>\n",
       "    <tr>\n",
       "      <th>1</th>\n",
       "      <td>8842281e1d1347389f2ab93d60773d4d</td>\n",
       "      <td>2017-03-22</td>\n",
       "      <td>3</td>\n",
       "      <td>False</td>\n",
       "      <td>[0, Recommended by Don Katz.]</td>\n",
       "      <td>[0, Avail for free in December: http://www.aud...</td>\n",
       "    </tr>\n",
       "    <tr>\n",
       "      <th>2</th>\n",
       "      <td>8842281e1d1347389f2ab93d60773d4d</td>\n",
       "      <td>2017-03-20</td>\n",
       "      <td>3</td>\n",
       "      <td>True</td>\n",
       "      <td>[0, A fun, fast paced science fiction thriller.]</td>\n",
       "      <td>[0, I read it in 2 nights and couldn't put it ...</td>\n",
       "    </tr>\n",
       "    <tr>\n",
       "      <th>3</th>\n",
       "      <td>8842281e1d1347389f2ab93d60773d4d</td>\n",
       "      <td>2016-11-09</td>\n",
       "      <td>0</td>\n",
       "      <td>False</td>\n",
       "      <td>[0, Recommended reading to understand what is ...</td>\n",
       "      <td>[0, http://www.npr.org/2016/11/09/5013826...]</td>\n",
       "    </tr>\n",
       "    <tr>\n",
       "      <th>4</th>\n",
       "      <td>8842281e1d1347389f2ab93d60773d4d</td>\n",
       "      <td>2016-04-25</td>\n",
       "      <td>4</td>\n",
       "      <td>True</td>\n",
       "      <td>[0, I really enjoyed this book, and there is a...</td>\n",
       "      <td>[0, It did drag on a little at the end so I kn...</td>\n",
       "    </tr>\n",
       "  </tbody>\n",
       "</table>\n",
       "</div>"
      ],
      "text/plain": [
       "                            user_id   timestamp  rating  has_spoiler  \\\n",
       "0  8842281e1d1347389f2ab93d60773d4d  2017-08-30       5         True   \n",
       "1  8842281e1d1347389f2ab93d60773d4d  2017-03-22       3        False   \n",
       "2  8842281e1d1347389f2ab93d60773d4d  2017-03-20       3         True   \n",
       "3  8842281e1d1347389f2ab93d60773d4d  2016-11-09       0        False   \n",
       "4  8842281e1d1347389f2ab93d60773d4d  2016-04-25       4         True   \n",
       "\n",
       "                                      first_sentence  \\\n",
       "0                       [0, This is a special book.]   \n",
       "1                      [0, Recommended by Don Katz.]   \n",
       "2   [0, A fun, fast paced science fiction thriller.]   \n",
       "3  [0, Recommended reading to understand what is ...   \n",
       "4  [0, I really enjoyed this book, and there is a...   \n",
       "\n",
       "                                     second_sentence  \n",
       "0  [0, It started slow for about the first third,...  \n",
       "1  [0, Avail for free in December: http://www.aud...  \n",
       "2  [0, I read it in 2 nights and couldn't put it ...  \n",
       "3      [0, http://www.npr.org/2016/11/09/5013826...]  \n",
       "4  [0, It did drag on a little at the end so I kn...  "
      ]
     },
     "execution_count": 36,
     "metadata": {},
     "output_type": "execute_result"
    }
   ],
   "source": [
    "df.head()"
   ]
  },
  {
   "cell_type": "markdown",
   "id": "dc7d3f51",
   "metadata": {},
   "source": [
    "#### --> Setting has_spoiler from \"True\" & \"False\" to 0 or 1"
   ]
  },
  {
   "cell_type": "code",
   "execution_count": 37,
   "id": "bf14b6f6",
   "metadata": {},
   "outputs": [],
   "source": [
    "df['has_spoiler'] = df['has_spoiler'].map({True: 1, False: 0})"
   ]
  },
  {
   "cell_type": "code",
   "execution_count": 38,
   "id": "b7323901",
   "metadata": {},
   "outputs": [
    {
     "data": {
      "text/html": [
       "<div>\n",
       "<style scoped>\n",
       "    .dataframe tbody tr th:only-of-type {\n",
       "        vertical-align: middle;\n",
       "    }\n",
       "\n",
       "    .dataframe tbody tr th {\n",
       "        vertical-align: top;\n",
       "    }\n",
       "\n",
       "    .dataframe thead th {\n",
       "        text-align: right;\n",
       "    }\n",
       "</style>\n",
       "<table border=\"1\" class=\"dataframe\">\n",
       "  <thead>\n",
       "    <tr style=\"text-align: right;\">\n",
       "      <th></th>\n",
       "      <th>user_id</th>\n",
       "      <th>timestamp</th>\n",
       "      <th>rating</th>\n",
       "      <th>has_spoiler</th>\n",
       "      <th>first_sentence</th>\n",
       "      <th>second_sentence</th>\n",
       "    </tr>\n",
       "  </thead>\n",
       "  <tbody>\n",
       "    <tr>\n",
       "      <th>0</th>\n",
       "      <td>8842281e1d1347389f2ab93d60773d4d</td>\n",
       "      <td>2017-08-30</td>\n",
       "      <td>5</td>\n",
       "      <td>1</td>\n",
       "      <td>[0, This is a special book.]</td>\n",
       "      <td>[0, It started slow for about the first third,...</td>\n",
       "    </tr>\n",
       "    <tr>\n",
       "      <th>1</th>\n",
       "      <td>8842281e1d1347389f2ab93d60773d4d</td>\n",
       "      <td>2017-03-22</td>\n",
       "      <td>3</td>\n",
       "      <td>0</td>\n",
       "      <td>[0, Recommended by Don Katz.]</td>\n",
       "      <td>[0, Avail for free in December: http://www.aud...</td>\n",
       "    </tr>\n",
       "    <tr>\n",
       "      <th>2</th>\n",
       "      <td>8842281e1d1347389f2ab93d60773d4d</td>\n",
       "      <td>2017-03-20</td>\n",
       "      <td>3</td>\n",
       "      <td>1</td>\n",
       "      <td>[0, A fun, fast paced science fiction thriller.]</td>\n",
       "      <td>[0, I read it in 2 nights and couldn't put it ...</td>\n",
       "    </tr>\n",
       "    <tr>\n",
       "      <th>3</th>\n",
       "      <td>8842281e1d1347389f2ab93d60773d4d</td>\n",
       "      <td>2016-11-09</td>\n",
       "      <td>0</td>\n",
       "      <td>0</td>\n",
       "      <td>[0, Recommended reading to understand what is ...</td>\n",
       "      <td>[0, http://www.npr.org/2016/11/09/5013826...]</td>\n",
       "    </tr>\n",
       "    <tr>\n",
       "      <th>4</th>\n",
       "      <td>8842281e1d1347389f2ab93d60773d4d</td>\n",
       "      <td>2016-04-25</td>\n",
       "      <td>4</td>\n",
       "      <td>1</td>\n",
       "      <td>[0, I really enjoyed this book, and there is a...</td>\n",
       "      <td>[0, It did drag on a little at the end so I kn...</td>\n",
       "    </tr>\n",
       "  </tbody>\n",
       "</table>\n",
       "</div>"
      ],
      "text/plain": [
       "                            user_id   timestamp  rating  has_spoiler  \\\n",
       "0  8842281e1d1347389f2ab93d60773d4d  2017-08-30       5            1   \n",
       "1  8842281e1d1347389f2ab93d60773d4d  2017-03-22       3            0   \n",
       "2  8842281e1d1347389f2ab93d60773d4d  2017-03-20       3            1   \n",
       "3  8842281e1d1347389f2ab93d60773d4d  2016-11-09       0            0   \n",
       "4  8842281e1d1347389f2ab93d60773d4d  2016-04-25       4            1   \n",
       "\n",
       "                                      first_sentence  \\\n",
       "0                       [0, This is a special book.]   \n",
       "1                      [0, Recommended by Don Katz.]   \n",
       "2   [0, A fun, fast paced science fiction thriller.]   \n",
       "3  [0, Recommended reading to understand what is ...   \n",
       "4  [0, I really enjoyed this book, and there is a...   \n",
       "\n",
       "                                     second_sentence  \n",
       "0  [0, It started slow for about the first third,...  \n",
       "1  [0, Avail for free in December: http://www.aud...  \n",
       "2  [0, I read it in 2 nights and couldn't put it ...  \n",
       "3      [0, http://www.npr.org/2016/11/09/5013826...]  \n",
       "4  [0, It did drag on a little at the end so I kn...  "
      ]
     },
     "execution_count": 38,
     "metadata": {},
     "output_type": "execute_result"
    }
   ],
   "source": [
    "df.head()"
   ]
  },
  {
   "cell_type": "markdown",
   "id": "6fd096a1",
   "metadata": {},
   "source": [
    "#### --> Counting the number of users who gave spoilers in the review & who didn't gave spoilers in the review"
   ]
  },
  {
   "cell_type": "code",
   "execution_count": 39,
   "id": "ad0fa9d3",
   "metadata": {},
   "outputs": [
    {
     "name": "stdout",
     "output_type": "stream",
     "text": [
      "Users who gave No Spoiler in their Reviews user_id            1288406\n",
      "timestamp          1288406\n",
      "rating             1288406\n",
      "has_spoiler        1288406\n",
      "first_sentence     1288406\n",
      "second_sentence    1178249\n",
      "dtype: int64\n",
      "Users who gave Spoiler in their Reviews user_id            89627\n",
      "timestamp          89627\n",
      "rating             89627\n",
      "has_spoiler        89627\n",
      "first_sentence     89627\n",
      "second_sentence    89364\n",
      "dtype: int64\n"
     ]
    }
   ],
   "source": [
    "print(\"Users who gave No Spoiler in their Reviews\", df[df['has_spoiler']==0].count())\n",
    "print(\"Users who gave Spoiler in their Reviews\", df[df['has_spoiler']==1].count())"
   ]
  },
  {
   "cell_type": "markdown",
   "id": "6c0a849d",
   "metadata": {},
   "source": [
    "### -- Total User Count is 1378033\n",
    "#### -- Total number of users who didn't gave spoilers are 1288406 ,\n",
    "#### -- Users who gave spoilers are 89627, "
   ]
  },
  {
   "cell_type": "code",
   "execution_count": 40,
   "id": "cca45646",
   "metadata": {
    "scrolled": true
   },
   "outputs": [
    {
     "data": {
      "text/plain": [
       "user_id            1378033\n",
       "timestamp          1378033\n",
       "rating             1378033\n",
       "has_spoiler        1378033\n",
       "first_sentence     1378033\n",
       "second_sentence    1267613\n",
       "dtype: int64"
      ]
     },
     "execution_count": 40,
     "metadata": {},
     "output_type": "execute_result"
    }
   ],
   "source": [
    "df.count()"
   ]
  },
  {
   "cell_type": "code",
   "execution_count": 41,
   "id": "417b43ae",
   "metadata": {},
   "outputs": [
    {
     "data": {
      "text/plain": [
       "(1378033, 6)"
      ]
     },
     "execution_count": 41,
     "metadata": {},
     "output_type": "execute_result"
    }
   ],
   "source": [
    "df.shape"
   ]
  },
  {
   "cell_type": "code",
   "execution_count": 42,
   "id": "a3021580",
   "metadata": {},
   "outputs": [
    {
     "name": "stdout",
     "output_type": "stream",
     "text": [
      "Total number of users: 18892\n"
     ]
    }
   ],
   "source": [
    "print(f\"Total number of users: {len(set(df['user_id']))}\")"
   ]
  },
  {
   "cell_type": "markdown",
   "id": "c52fcd60",
   "metadata": {},
   "source": [
    "#### --> Counting Number of users who have given a rating, Number of users who have given spoilers, Number of users who have not given spoilers & Number of users who left no reviews at all"
   ]
  },
  {
   "cell_type": "code",
   "execution_count": 43,
   "id": "1de45312",
   "metadata": {},
   "outputs": [
    {
     "name": "stdout",
     "output_type": "stream",
     "text": [
      "Number of users who have given a rating: 18892\n",
      "Number of users who have given spoilers: 16040\n",
      "Number of users who have not given spoilers: 2852\n",
      "Number of users who left no reviews at all: 0\n"
     ]
    }
   ],
   "source": [
    "num_users_with_rating = len(set(df['user_id']))\n",
    "print(f\"Number of users who have given a rating: {num_users_with_rating}\")\n",
    "\n",
    "num_users_with_spoilers = len(set(df[df['has_spoiler'] == 1]['user_id']))\n",
    "num_users_without_spoilers = num_users_with_rating - num_users_with_spoilers\n",
    "print(f\"Number of users who have given spoilers: {num_users_with_spoilers}\")\n",
    "print(f\"Number of users who have not given spoilers: {num_users_without_spoilers}\")\n",
    "num_users_with_no_reviews = len(set(df['user_id'])) - len(set(df.dropna(subset=['first_sentence'])['user_id']))\n",
    "print(f\"Number of users who left no reviews at all: {num_users_with_no_reviews}\")\n"
   ]
  },
  {
   "cell_type": "code",
   "execution_count": 44,
   "id": "dbd09f99",
   "metadata": {},
   "outputs": [
    {
     "data": {
      "text/plain": [
       "0          2017-08-30\n",
       "1          2017-03-22\n",
       "2          2017-03-20\n",
       "3          2016-11-09\n",
       "4          2016-04-25\n",
       "              ...    \n",
       "1378028    2013-04-16\n",
       "1378029    2012-12-28\n",
       "1378030    2013-03-25\n",
       "1378031    2013-01-24\n",
       "1378032    2012-12-29\n",
       "Name: timestamp, Length: 1378033, dtype: object"
      ]
     },
     "execution_count": 44,
     "metadata": {},
     "output_type": "execute_result"
    }
   ],
   "source": [
    "df['timestamp']"
   ]
  },
  {
   "cell_type": "markdown",
   "id": "4fc6c7c6",
   "metadata": {},
   "source": [
    "#### --> Converting Timestamp to monthly & Yearly "
   ]
  },
  {
   "cell_type": "code",
   "execution_count": 45,
   "id": "0763db09",
   "metadata": {},
   "outputs": [],
   "source": [
    "df['timestamp'] = pd.to_datetime(df['timestamp'])\n",
    "\n",
    "# Create new 'yearly' column\n",
    "df['yearly'] = df['timestamp'].dt.year\n",
    "\n",
    "# Create new 'monthly' column\n",
    "df['monthly'] = df['timestamp'].dt.to_period('M')"
   ]
  },
  {
   "cell_type": "code",
   "execution_count": 46,
   "id": "f14228d3",
   "metadata": {},
   "outputs": [
    {
     "name": "stdout",
     "output_type": "stream",
     "text": [
      "                                  user_id  timestamp  rating  has_spoiler  \\\n",
      "0        8842281e1d1347389f2ab93d60773d4d 2017-08-30       5            1   \n",
      "1        8842281e1d1347389f2ab93d60773d4d 2017-03-22       3            0   \n",
      "2        8842281e1d1347389f2ab93d60773d4d 2017-03-20       3            1   \n",
      "3        8842281e1d1347389f2ab93d60773d4d 2016-11-09       0            0   \n",
      "4        8842281e1d1347389f2ab93d60773d4d 2016-04-25       4            1   \n",
      "...                                   ...        ...     ...          ...   \n",
      "1378028  35cef391b171b4fca45771e508028212 2013-04-16       0            0   \n",
      "1378029  35cef391b171b4fca45771e508028212 2012-12-28       0            0   \n",
      "1378030  35cef391b171b4fca45771e508028212 2013-03-25       4            0   \n",
      "1378031  35cef391b171b4fca45771e508028212 2013-01-24       4            0   \n",
      "1378032  35cef391b171b4fca45771e508028212 2012-12-29       5            1   \n",
      "\n",
      "                                            first_sentence  \\\n",
      "0                             [0, This is a special book.]   \n",
      "1                            [0, Recommended by Don Katz.]   \n",
      "2         [0, A fun, fast paced science fiction thriller.]   \n",
      "3        [0, Recommended reading to understand what is ...   \n",
      "4        [0, I really enjoyed this book, and there is a...   \n",
      "...                                                    ...   \n",
      "1378028                    [0, Can't wait for Travis' POV]   \n",
      "1378029         [0, Had this on my to-read shelf forever.]   \n",
      "1378030       [0, The last book left me wanting for more.]   \n",
      "1378031  [0, Things are heating up in the second novel ...   \n",
      "1378032  [0, Before I even start this review, I must sa...   \n",
      "\n",
      "                                           second_sentence  yearly  monthly  \n",
      "0        [0, It started slow for about the first third,...    2017  2017-08  \n",
      "1        [0, Avail for free in December: http://www.aud...    2017  2017-03  \n",
      "2        [0, I read it in 2 nights and couldn't put it ...    2017  2017-03  \n",
      "3            [0, http://www.npr.org/2016/11/09/5013826...]    2016  2016-11  \n",
      "4        [0, It did drag on a little at the end so I kn...    2016  2016-04  \n",
      "...                                                    ...     ...      ...  \n",
      "1378028                         [0, Travis Before Abby...]    2013  2013-04  \n",
      "1378029               [0, Will update once I've finished.]    2012  2012-12  \n",
      "1378030  [0, I need a happy ending on this one; my poor...    2013  2013-03  \n",
      "1378031  [0, Will is beginning to realize that a life w...    2013  2013-01  \n",
      "1378032  [0, Its heart wrenching in a way that makes yo...    2012  2012-12  \n",
      "\n",
      "[1378033 rows x 8 columns]\n"
     ]
    }
   ],
   "source": [
    "print(df)"
   ]
  },
  {
   "cell_type": "markdown",
   "id": "ccc47be1",
   "metadata": {},
   "source": [
    "## --> Plotting a graph to find out Average Reting per year "
   ]
  },
  {
   "cell_type": "code",
   "execution_count": 47,
   "id": "d2d6de9f",
   "metadata": {
    "scrolled": true
   },
   "outputs": [
    {
     "data": {
      "image/png": "[encoded data removed]",
      "text/plain": [
       "<Figure size 640x480 with 1 Axes>"
      ]
     },
     "metadata": {},
     "output_type": "display_data"
    }
   ],
   "source": [
    "grouped_df = df.groupby('yearly').mean().reset_index()\n",
    "\n",
    "# Plot line graph\n",
    "plt.plot(grouped_df['yearly'], grouped_df['rating'])\n",
    "plt.xlabel('Year')\n",
    "plt.ylabel('Average Rating')\n",
    "plt.title('Average Rating per Year')\n",
    "plt.show()"
   ]
  },
  {
   "cell_type": "markdown",
   "id": "967f60de",
   "metadata": {},
   "source": [
    "#### --> Result : We can See that the Average Rating has decreased drastically for the Goodread During Year 2006 to 2016. Average Rating can be said to be around = 3.5* "
   ]
  },
  {
   "cell_type": "markdown",
   "id": "9f7fbd8b",
   "metadata": {},
   "source": [
    "## --> Plotting the graph for the number of users according to the year to find the popularity ratio for the Goodread"
   ]
  },
  {
   "cell_type": "code",
   "execution_count": 48,
   "id": "f2da4ae3",
   "metadata": {
    "scrolled": true
   },
   "outputs": [
    {
     "data": {
      "image/png": "[encoded data removed]",
      "text/plain": [
       "<Figure size 640x480 with 1 Axes>"
      ]
     },
     "metadata": {},
     "output_type": "display_data"
    }
   ],
   "source": [
    "grouped_df = df.groupby('yearly')['user_id'].nunique().reset_index()\n",
    "\n",
    "# Plot bar graph\n",
    "plt.bar(grouped_df['yearly'], grouped_df['user_id'])\n",
    "plt.xlabel('Year')\n",
    "plt.ylabel('Number of Users')\n",
    "plt.title('Number of Users per Year')\n",
    "plt.show()"
   ]
  },
  {
   "cell_type": "markdown",
   "id": "a5ac1094",
   "metadata": {},
   "source": [
    "#### --> Result :- Number of Users showed constant increase in the amount till Year 2016 but after that it showed slight decine for the upcoming year."
   ]
  },
  {
   "cell_type": "markdown",
   "id": "143ee729",
   "metadata": {},
   "source": [
    "## --> Plotting the graph for the number of users with & without spoilers per Year "
   ]
  },
  {
   "cell_type": "code",
   "execution_count": 49,
   "id": "57289ae3",
   "metadata": {
    "scrolled": true
   },
   "outputs": [
    {
     "data": {
      "image/png": "[encoded data removed]",
      "text/plain": [
       "<Figure size 640x480 with 1 Axes>"
      ]
     },
     "metadata": {},
     "output_type": "display_data"
    }
   ],
   "source": [
    "grouped_df = df.groupby(['yearly', 'has_spoiler'])['user_id'].nunique().reset_index()\n",
    "\n",
    "# Separate the two groups into two different data frames\n",
    "has_spoiler = grouped_df[grouped_df['has_spoiler'] == 1]\n",
    "no_spoiler = grouped_df[grouped_df['has_spoiler'] == 0]\n",
    "\n",
    "# Merge the two data frames on 'yearly' column\n",
    "merged_df = pd.merge(has_spoiler, no_spoiler, on='yearly')\n",
    "\n",
    "# Plot line graph\n",
    "plt.plot(merged_df['yearly'], merged_df['user_id_x'], label='Users with Spoilers')\n",
    "plt.plot(merged_df['yearly'], merged_df['user_id_y'], label='Users without Spoilers')\n",
    "plt.xlabel('Year')\n",
    "plt.ylabel('Number of Users')\n",
    "plt.title('Number of Users with and without Spoilers per Year')\n",
    "plt.legend()\n",
    "plt.show()"
   ]
  },
  {
   "cell_type": "markdown",
   "id": "6b673a5b",
   "metadata": {},
   "source": [
    "#### --> Result :- Number of users with Spoilers showed quite a bit of increase till Year 2016 but for the upcoming year the Slope is going down which shows the decrease in the people who provided reviews with spoilers for the upcoming Year. Moreover, Users without spoilers showed rapid increase till year 2016 which now has dropped and decreased to around 13000 users (Before it was 14000) for the Upcoming Year."
   ]
  },
  {
   "cell_type": "markdown",
   "id": "8112e6ff",
   "metadata": {},
   "source": [
    "#### --> Finding which year had the highest reviews & among those how many were with spoilers & without spoilers "
   ]
  },
  {
   "cell_type": "code",
   "execution_count": 50,
   "id": "4f221ab6",
   "metadata": {},
   "outputs": [
    {
     "name": "stdout",
     "output_type": "stream",
     "text": [
      "The year with the most reviews is 2016\n",
      "Number of reviews with spoilers: 21068\n",
      "Number of reviews without spoilers: 260867\n"
     ]
    }
   ],
   "source": [
    "year_with_most_reviews = df['yearly'].value_counts().idxmax()\n",
    "\n",
    "# Get the number of reviews with and without spoilers for that year\n",
    "num_reviews_with_spoilers = df[(df['yearly'] == year_with_most_reviews) & (df['has_spoiler'] == 1)].shape[0]\n",
    "num_reviews_without_spoilers = df[(df['yearly'] == year_with_most_reviews) & (df['has_spoiler'] == 0)].shape[0]\n",
    "\n",
    "# Print the results\n",
    "print(f\"The year with the most reviews is {year_with_most_reviews}\")\n",
    "print(f\"Number of reviews with spoilers: {num_reviews_with_spoilers}\")\n",
    "print(f\"Number of reviews without spoilers: {num_reviews_without_spoilers}\")"
   ]
  },
  {
   "cell_type": "markdown",
   "id": "17b1c1bc",
   "metadata": {},
   "source": [
    "#### --> Plotting the Bar for the reviews in 2016, with spoilers & without spoilers"
   ]
  },
  {
   "cell_type": "code",
   "execution_count": 51,
   "id": "a189341c",
   "metadata": {},
   "outputs": [
    {
     "data": {
      "image/png": "[encoded data removed]",
      "text/plain": [
       "<Figure size 640x480 with 1 Axes>"
      ]
     },
     "metadata": {},
     "output_type": "display_data"
    }
   ],
   "source": [
    "plt.bar(['With Spoilers', 'Without Spoilers'], [num_reviews_with_spoilers, num_reviews_without_spoilers])\n",
    "plt.title(f\"Number of Reviews with and Without Spoilers for {year_with_most_reviews}\")\n",
    "plt.ylabel('Number of Reviews')\n",
    "plt.show()"
   ]
  },
  {
   "cell_type": "markdown",
   "id": "aed46ce5",
   "metadata": {},
   "source": [
    "#### -->  Result :- The year with the highest review is 2016 & the bar chart shows that reviews without spoliers amounted more which are around 250000 while reviews with spoilers were around 25000"
   ]
  },
  {
   "cell_type": "code",
   "execution_count": 52,
   "id": "666b381b",
   "metadata": {},
   "outputs": [
    {
     "data": {
      "text/html": [
       "<div>\n",
       "<style scoped>\n",
       "    .dataframe tbody tr th:only-of-type {\n",
       "        vertical-align: middle;\n",
       "    }\n",
       "\n",
       "    .dataframe tbody tr th {\n",
       "        vertical-align: top;\n",
       "    }\n",
       "\n",
       "    .dataframe thead th {\n",
       "        text-align: right;\n",
       "    }\n",
       "</style>\n",
       "<table border=\"1\" class=\"dataframe\">\n",
       "  <thead>\n",
       "    <tr style=\"text-align: right;\">\n",
       "      <th></th>\n",
       "      <th>user_id</th>\n",
       "      <th>timestamp</th>\n",
       "      <th>rating</th>\n",
       "      <th>has_spoiler</th>\n",
       "      <th>first_sentence</th>\n",
       "      <th>second_sentence</th>\n",
       "      <th>yearly</th>\n",
       "      <th>monthly</th>\n",
       "    </tr>\n",
       "  </thead>\n",
       "  <tbody>\n",
       "    <tr>\n",
       "      <th>0</th>\n",
       "      <td>8842281e1d1347389f2ab93d60773d4d</td>\n",
       "      <td>2017-08-30</td>\n",
       "      <td>5</td>\n",
       "      <td>1</td>\n",
       "      <td>[0, This is a special book.]</td>\n",
       "      <td>[0, It started slow for about the first third,...</td>\n",
       "      <td>2017</td>\n",
       "      <td>2017-08</td>\n",
       "    </tr>\n",
       "    <tr>\n",
       "      <th>1</th>\n",
       "      <td>8842281e1d1347389f2ab93d60773d4d</td>\n",
       "      <td>2017-03-22</td>\n",
       "      <td>3</td>\n",
       "      <td>0</td>\n",
       "      <td>[0, Recommended by Don Katz.]</td>\n",
       "      <td>[0, Avail for free in December: http://www.aud...</td>\n",
       "      <td>2017</td>\n",
       "      <td>2017-03</td>\n",
       "    </tr>\n",
       "    <tr>\n",
       "      <th>2</th>\n",
       "      <td>8842281e1d1347389f2ab93d60773d4d</td>\n",
       "      <td>2017-03-20</td>\n",
       "      <td>3</td>\n",
       "      <td>1</td>\n",
       "      <td>[0, A fun, fast paced science fiction thriller.]</td>\n",
       "      <td>[0, I read it in 2 nights and couldn't put it ...</td>\n",
       "      <td>2017</td>\n",
       "      <td>2017-03</td>\n",
       "    </tr>\n",
       "    <tr>\n",
       "      <th>3</th>\n",
       "      <td>8842281e1d1347389f2ab93d60773d4d</td>\n",
       "      <td>2016-11-09</td>\n",
       "      <td>0</td>\n",
       "      <td>0</td>\n",
       "      <td>[0, Recommended reading to understand what is ...</td>\n",
       "      <td>[0, http://www.npr.org/2016/11/09/5013826...]</td>\n",
       "      <td>2016</td>\n",
       "      <td>2016-11</td>\n",
       "    </tr>\n",
       "    <tr>\n",
       "      <th>4</th>\n",
       "      <td>8842281e1d1347389f2ab93d60773d4d</td>\n",
       "      <td>2016-04-25</td>\n",
       "      <td>4</td>\n",
       "      <td>1</td>\n",
       "      <td>[0, I really enjoyed this book, and there is a...</td>\n",
       "      <td>[0, It did drag on a little at the end so I kn...</td>\n",
       "      <td>2016</td>\n",
       "      <td>2016-04</td>\n",
       "    </tr>\n",
       "  </tbody>\n",
       "</table>\n",
       "</div>"
      ],
      "text/plain": [
       "                            user_id  timestamp  rating  has_spoiler  \\\n",
       "0  8842281e1d1347389f2ab93d60773d4d 2017-08-30       5            1   \n",
       "1  8842281e1d1347389f2ab93d60773d4d 2017-03-22       3            0   \n",
       "2  8842281e1d1347389f2ab93d60773d4d 2017-03-20       3            1   \n",
       "3  8842281e1d1347389f2ab93d60773d4d 2016-11-09       0            0   \n",
       "4  8842281e1d1347389f2ab93d60773d4d 2016-04-25       4            1   \n",
       "\n",
       "                                      first_sentence  \\\n",
       "0                       [0, This is a special book.]   \n",
       "1                      [0, Recommended by Don Katz.]   \n",
       "2   [0, A fun, fast paced science fiction thriller.]   \n",
       "3  [0, Recommended reading to understand what is ...   \n",
       "4  [0, I really enjoyed this book, and there is a...   \n",
       "\n",
       "                                     second_sentence  yearly  monthly  \n",
       "0  [0, It started slow for about the first third,...    2017  2017-08  \n",
       "1  [0, Avail for free in December: http://www.aud...    2017  2017-03  \n",
       "2  [0, I read it in 2 nights and couldn't put it ...    2017  2017-03  \n",
       "3      [0, http://www.npr.org/2016/11/09/5013826...]    2016  2016-11  \n",
       "4  [0, It did drag on a little at the end so I kn...    2016  2016-04  "
      ]
     },
     "execution_count": 52,
     "metadata": {},
     "output_type": "execute_result"
    }
   ],
   "source": [
    "df.head()"
   ]
  },
  {
   "cell_type": "code",
   "execution_count": 53,
   "id": "d62f87cf",
   "metadata": {},
   "outputs": [],
   "source": [
    "df.to_csv('data.csv', index=False)"
   ]
  },
  {
   "cell_type": "code",
   "execution_count": 54,
   "id": "6a925a9b",
   "metadata": {},
   "outputs": [
    {
     "name": "stdout",
     "output_type": "stream",
     "text": [
      "Total number of ratings: 1378033\n"
     ]
    }
   ],
   "source": [
    "\n",
    "total_ratings = df['rating'].count()\n",
    "\n",
    "print(f\"Total number of ratings: {total_ratings}\")"
   ]
  },
  {
   "cell_type": "code",
   "execution_count": null,
   "id": "48a8c0f4",
   "metadata": {},
   "outputs": [],
   "source": []
  }
 ],
 "metadata": {
  "kernelspec": {
   "display_name": "Python 3 (ipykernel)",
   "language": "python",
   "name": "python3"
  },
  "language_info": {
   "codemirror_mode": {
    "name": "ipython",
    "version": 3
   },
   "file_extension": ".py",
   "mimetype": "text/x-python",
   "name": "python",
   "nbconvert_exporter": "python",
   "pygments_lexer": "ipython3",
   "version": "3.9.13"
  }
 },
 "nbformat": 4,
 "nbformat_minor": 5
}
